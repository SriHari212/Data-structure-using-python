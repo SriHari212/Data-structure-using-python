{
 "cells": [
  {
   "cell_type": "code",
   "execution_count": 2,
   "id": "3297b8aa-4995-485a-8048-250f01a8f3ed",
   "metadata": {},
   "outputs": [
    {
     "data": {
      "text/plain": [
       "[40, 10, 20, 30]"
      ]
     },
     "execution_count": 2,
     "metadata": {},
     "output_type": "execute_result"
    }
   ],
   "source": [
    "# 2. Array rotation\n",
    "  # • Problem : write a python function to rotate an array to the right kth\n",
    "  #position.\n",
    "  #• Input: arr = [1,2,3,4,5]\n",
    "  #• Output: [4,5,1,2,3]\n",
    "def new(k):\n",
    "    arr=[10,20,30,40]\n",
    "    n=len(arr)\n",
    "    if k>n:\n",
    "        k=k-n\n",
    "    elif k==0:\n",
    "        print('no rotation')\n",
    "    else:\n",
    "        return arr[k:]+arr[:k] \n",
    "new(3)"
   ]
  },
  {
   "cell_type": "code",
   "execution_count": null,
   "id": "27b87747-3638-4fc8-8d1b-c4b922f8daf0",
   "metadata": {},
   "outputs": [],
   "source": []
  }
 ],
 "metadata": {
  "kernelspec": {
   "display_name": "Python 3 (ipykernel)",
   "language": "python",
   "name": "python3"
  },
  "language_info": {
   "codemirror_mode": {
    "name": "ipython",
    "version": 3
   },
   "file_extension": ".py",
   "mimetype": "text/x-python",
   "name": "python",
   "nbconvert_exporter": "python",
   "pygments_lexer": "ipython3",
   "version": "3.12.4"
  }
 },
 "nbformat": 4,
 "nbformat_minor": 5
}
