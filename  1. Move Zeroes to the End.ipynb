{
 "cells": [
  {
   "cell_type": "code",
   "execution_count": 2,
   "id": "194e35f2-690d-46d9-992b-853f000b3f4a",
   "metadata": {},
   "outputs": [
    {
     "name": "stdout",
     "output_type": "stream",
     "text": [
      "Array after moving zeroes to the end: [1, 3, 12, 0, 0]\n"
     ]
    }
   ],
   "source": [
    "#  1. Move Zeroes to the End\n",
    "     #  • Problem: Write a function that moves all zeroes in an array to the end\n",
    "     #  while maintaining the relative order of the non-zero elements.\n",
    "     #  • Input: arr = [0, 1, 0, 3, 12]\n",
    "     #  • Output: [1, 3, 12, 0, 0]\n",
    "def move_zeroes_to_end(arr):\n",
    "    \n",
    "    non_zero_index = 0  \n",
    "    \n",
    "    \n",
    "    for i in range(len(arr)):\n",
    "        if arr[i] != 0:\n",
    "            arr[non_zero_index] = arr[i]\n",
    "            if non_zero_index != i:\n",
    "                arr[i] = 0  \n",
    "            non_zero_index += 1\n",
    "\n",
    "    return arr\n",
    "\n",
    "\n",
    "arr = [0, 1, 0, 3, 12]\n",
    "result = move_zeroes_to_end(arr)\n",
    "print(f\"Array after moving zeroes to the end: {result}\")\n"
   ]
  },
  {
   "cell_type": "code",
   "execution_count": null,
   "id": "1b0ce851-edc3-4c79-ad66-ad2d4b4046a6",
   "metadata": {},
   "outputs": [],
   "source": []
  }
 ],
 "metadata": {
  "kernelspec": {
   "display_name": "Python 3 (ipykernel)",
   "language": "python",
   "name": "python3"
  },
  "language_info": {
   "codemirror_mode": {
    "name": "ipython",
    "version": 3
   },
   "file_extension": ".py",
   "mimetype": "text/x-python",
   "name": "python",
   "nbconvert_exporter": "python",
   "pygments_lexer": "ipython3",
   "version": "3.12.4"
  }
 },
 "nbformat": 4,
 "nbformat_minor": 5
}
