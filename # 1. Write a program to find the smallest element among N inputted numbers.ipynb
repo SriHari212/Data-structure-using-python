{
 "cells": [
  {
   "cell_type": "code",
   "execution_count": 1,
   "id": "c3ebdc31-44ce-4377-90ca-be7b0f060f65",
   "metadata": {},
   "outputs": [
    {
     "name": "stdout",
     "output_type": "stream",
     "text": [
      "1\n"
     ]
    }
   ],
   "source": [
    "import numpy as np\n",
    "arr=np.array([1,2,3,4,5])\n",
    "\n",
    "def array(arr):\n",
    "    min_val=np.min(arr)\n",
    "    return min_val\n",
    "\n",
    "result=array(arr)\n",
    "print(result)\n"
   ]
  },
  {
   "cell_type": "code",
   "execution_count": null,
   "id": "3185143f-8fc3-4955-b1d7-25ed512e25ca",
   "metadata": {},
   "outputs": [],
   "source": []
  }
 ],
 "metadata": {
  "kernelspec": {
   "display_name": "Python 3 (ipykernel)",
   "language": "python",
   "name": "python3"
  },
  "language_info": {
   "codemirror_mode": {
    "name": "ipython",
    "version": 3
   },
   "file_extension": ".py",
   "mimetype": "text/x-python",
   "name": "python",
   "nbconvert_exporter": "python",
   "pygments_lexer": "ipython3",
   "version": "3.12.4"
  }
 },
 "nbformat": 4,
 "nbformat_minor": 5
}
