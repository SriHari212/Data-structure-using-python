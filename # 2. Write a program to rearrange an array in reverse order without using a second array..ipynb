{
 "cells": [
  {
   "cell_type": "code",
   "execution_count": 4,
   "id": "539b9e3e-efae-4166-9f76-21dfb0624ffd",
   "metadata": {},
   "outputs": [
    {
     "name": "stdout",
     "output_type": "stream",
     "text": [
      "[2 8 6 4 3 7]\n"
     ]
    }
   ],
   "source": [
    "import numpy as np\n",
    "arr=np.array([7,3,4,6,8,2])\n",
    "\n",
    "def array(arr):\n",
    "    print(arr[::-1])\n",
    "\n",
    "array(arr)"
   ]
  },
  {
   "cell_type": "code",
   "execution_count": null,
   "id": "75beb449-c12b-485b-b3cd-016251278272",
   "metadata": {},
   "outputs": [],
   "source": []
  }
 ],
 "metadata": {
  "kernelspec": {
   "display_name": "Python 3 (ipykernel)",
   "language": "python",
   "name": "python3"
  },
  "language_info": {
   "codemirror_mode": {
    "name": "ipython",
    "version": 3
   },
   "file_extension": ".py",
   "mimetype": "text/x-python",
   "name": "python",
   "nbconvert_exporter": "python",
   "pygments_lexer": "ipython3",
   "version": "3.12.4"
  }
 },
 "nbformat": 4,
 "nbformat_minor": 5
}
